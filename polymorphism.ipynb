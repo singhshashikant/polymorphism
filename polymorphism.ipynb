{
 "cells": [
  {
   "cell_type": "code",
   "execution_count": 1,
   "id": "a9c02d14-7ab1-4db7-b429-6f87a4ef9e95",
   "metadata": {},
   "outputs": [
    {
     "data": {
      "text/plain": [
       "9"
      ]
     },
     "execution_count": 1,
     "metadata": {},
     "output_type": "execute_result"
    }
   ],
   "source": [
    "def test(a,b):\n",
    "    return a+b\n",
    "test(4,5)"
   ]
  },
  {
   "cell_type": "code",
   "execution_count": 4,
   "id": "037b0273-4ba1-4dfa-825f-ed35d902e8c4",
   "metadata": {},
   "outputs": [
    {
     "data": {
      "text/plain": [
       "'shashi singh'"
      ]
     },
     "execution_count": 4,
     "metadata": {},
     "output_type": "execute_result"
    }
   ],
   "source": [
    "test(\"shashi\",\" singh\")"
   ]
  },
  {
   "cell_type": "code",
   "execution_count": 2,
   "id": "23826564-2d6c-4a02-a8aa-2a1450789cea",
   "metadata": {},
   "outputs": [
    {
     "name": "stdout",
     "output_type": "stream",
     "text": [
      "this is data_science\n",
      "this is my webdev class\n"
     ]
    }
   ],
   "source": [
    "class data_science:\n",
    "    def syllabus(self):\n",
    "        print(\"this is data_science\")\n",
    "class webdev:\n",
    "    def syllabus(self):\n",
    "        print(\"this is my webdev class\")\n",
    "def class_parcer(class_obj):\n",
    "    for i in class_obj:\n",
    "        i.syllabus()\n",
    "data_science=data_science()\n",
    "webdev=webdev()\n",
    "class_obj=[data_science,webdev]\n",
    "class_parcer(class_obj)\n",
    "        \n",
    "        "
   ]
  },
  {
   "cell_type": "code",
   "execution_count": 8,
   "id": "b2d94b26-33c3-48b7-b979-f323df9b7bd6",
   "metadata": {},
   "outputs": [
    {
     "name": "stdout",
     "output_type": "stream",
     "text": [
      "hello\n",
      "shashi\n"
     ]
    }
   ],
   "source": [
    "class honda:\n",
    "    def model(self,name1):\n",
    "        self.name1\n",
    "class hero:\n",
    "    def model(self):\n",
    "        print(\"shashi\")\n",
    "\n",
    "def class_parser(class_obj):\n",
    "    for i in class_obj:\n",
    "        i.model()\n",
    "    \n",
    "        \n",
    "        \n",
    "honda=honda()\n",
    "hero=hero()\n",
    "class_obj=[honda,hero]\n",
    "\n",
    "class_parser(class_obj)        \n"
   ]
  },
  {
   "cell_type": "code",
   "execution_count": 15,
   "id": "2f6bedd1-a9e9-42f7-a4fc-6b2e533bdc29",
   "metadata": {},
   "outputs": [
    {
     "name": "stdout",
     "output_type": "stream",
     "text": [
      "yes\n",
      "shashi\n"
     ]
    }
   ],
   "source": [
    "class honda1:\n",
    "    def model(self):\n",
    "        print(\"yes\")\n",
    "class hero1:\n",
    "    def model(self):\n",
    "        print(\"shashi\")\n",
    "\n",
    "def class_parser(class_obj):\n",
    "    for i in class_obj:\n",
    "        i.model()\n",
    "honda=honda1()\n",
    "hero=hero1()\n",
    "class_obj=[honda,hero]\n",
    "class_parser(class_obj)"
   ]
  },
  {
   "cell_type": "code",
   "execution_count": null,
   "id": "dc7ab643-a611-4b5e-baf4-dec756a743e1",
   "metadata": {},
   "outputs": [],
   "source": [
    "# polymorphism"
   ]
  }
 ],
 "metadata": {
  "kernelspec": {
   "display_name": "Python 3 (ipykernel)",
   "language": "python",
   "name": "python3"
  },
  "language_info": {
   "codemirror_mode": {
    "name": "ipython",
    "version": 3
   },
   "file_extension": ".py",
   "mimetype": "text/x-python",
   "name": "python",
   "nbconvert_exporter": "python",
   "pygments_lexer": "ipython3",
   "version": "3.10.8"
  }
 },
 "nbformat": 4,
 "nbformat_minor": 5
}
